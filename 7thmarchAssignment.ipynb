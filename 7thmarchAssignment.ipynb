{
 "cells": [
  {
   "cell_type": "markdown",
   "id": "11f46fd8-14c9-4157-b15e-ba216338e76d",
   "metadata": {},
   "source": [
    "Problem_1\n",
    "\n",
    "What are the three measures of central tendency?\n",
    " \n",
    "A measure of central tendency (also referred to as measures of centre or central location) is a summary measure that attempts to describe a whole set of data with a single value that represents the middle or centre of its distribution.\n",
    "\n",
    "There are three main measures of central tendency:\n",
    "\n",
    "mode\n",
    "median\n",
    "mean\n",
    "\n",
    "Mean\n",
    "\n",
    "The mean is the sum of the value of each observation in a dataset divided by the number of observations. This is also known as the arithmetic average. \n",
    "\n",
    "Looking at the retirement age distribution again: \n",
    "\n",
    "54, 54, 54, 55, 56, 57, 57, 58, 58, 60, 60\n",
    "\n",
    "The mean is calculated by adding together all the values (54+54+54+55+56+57+57+58+58+60+60 = 623) and dividing by the number of observations (11) which equals 56.6 years\n",
    "\n",
    "\n",
    "Mode\n",
    "The mode is the most commonly occurring value in a distribution.\n",
    "\n",
    "Consider this dataset showing the retirement age of 11 people, in whole years:\n",
    "\n",
    "54, 54, 54, 55, 56, 57, 57, 58, 58, 60, 60\n",
    "\n",
    "The most commonly occurring value is 54, therefore the mode of this distribution is 54 years.  \n",
    "\n",
    "Median\n",
    "The median is the middle value in distribution when the values are arranged in ascending or descending order.\n",
    "\n",
    "The median divides the distribution in half (there are 50% of observations on either side of the median value). In a distribution with an odd number of observations, the median value is the middle value.  \n",
    "\n",
    "Looking at the retirement age distribution (which has 11 observations), the median is the middle value, which is 57 years:  \n",
    "\n",
    "54, 54, 54, 55, 56, 57, 57, 58, 58, 60, 60 \n",
    "\n",
    "When the distribution has an even number of observations, the median value is the mean of the two middle values.  In the following distribution, the two middle values are 56 and 57, therefore the median equals 56.5 years: \n",
    "\n",
    "52, 54, 54, 54, 55, 56, 57, 57, 58, 58, 60, 60"
   ]
  },
  {
   "cell_type": "markdown",
   "id": "7a963214-d771-4c7f-bdbb-03bf59496031",
   "metadata": {},
   "source": [
    "Problem_2\n",
    "\n",
    "What is the difference between the mean, median, and mode? How are they used to measure the\n",
    "central tendency of a dataset?\n",
    "\n",
    "\n",
    "The mean is the average where the sum of all the numbers is divided by the total number of numbers, whereas the median is the middle value in the list of given numbers numerically ordered from smallest to biggest and mode is the value of the number which occurs most often in the list. You can learn more about it here:\n",
    "\n",
    "Mean-\n",
    "The average taken for a set of numbers is called a mean.\n",
    "Add all of the numbers together and divide the sum by the total number of values.\n",
    "The result is the mean or average score.\n",
    "Example: To find the average of the four numbers 2, 4, 6, and 8, we need to add the number first.\n",
    "2 + 4 + 6+ 8 = 20\n",
    "Divide the sum by the total number of numbers, i. e 4.\n",
    "20/4 = 5 is the average or mean\n",
    "\n",
    "Median-\n",
    "The middle value in the data set is called the Median.\n",
    "Place all the given numbers in an ascending order.\n",
    "The next step is to find the middle number on the list. It is called the median.\n",
    "Example: 4, 2, 8, 10, 19.\n",
    "Arrange the numbers in ascending order. i .e., 2, 4, 8, 10, 19.\n",
    "As the total numbers are 5, so the middle number 8 is the median here.\n",
    "\n",
    "Mode-\n",
    "data set is called the Median.\tThe number that occurs the most in a given list of numbers is called a mode.\n",
    "It shows the frequency of occurrence.\n",
    "We can have more than one mode or no mode at all.\n",
    "Example: 3, 3, 5, 6, 7, 7, 8, 1, 1, 1, 4, 5, 6.\n",
    "Find the frequency of each number.\n",
    "For number 3, it’s 2. For 5, it’s 2. For 6, it’s 2. For 7, it’s 2. For 8, it’s one. For 1, it’s 3. For 4, it’s 1.\n",
    "The number with the highest frequency is the mode. Hence, the mode of the given sequence of numbers is 1."
   ]
  },
  {
   "cell_type": "code",
   "execution_count": 2,
   "id": "8fe675bf-7776-443c-ac92-5d36e8451c44",
   "metadata": {},
   "outputs": [
    {
     "data": {
      "text/plain": [
       "177.01875"
      ]
     },
     "execution_count": 2,
     "metadata": {},
     "output_type": "execute_result"
    }
   ],
   "source": [
    "# Problem_3\n",
    "# Q3. Measure the three measures of central tendency for the given height data:\n",
    "#     [178,177,176,177,178.2,178,175,179,180,175,178.9,176.2,177,172.5,178,176.5]\n",
    "\n",
    "import numpy as np\n",
    "height =  [178,177,176,177,178.2,178,175,179,180,175,178.9,176.2,177,172.5,178,176.5]\n",
    "np.mean(height)"
   ]
  },
  {
   "cell_type": "code",
   "execution_count": 4,
   "id": "984df02f-b870-48bc-8820-0ed0f56501f5",
   "metadata": {},
   "outputs": [
    {
     "data": {
      "text/plain": [
       "177.0"
      ]
     },
     "execution_count": 4,
     "metadata": {},
     "output_type": "execute_result"
    }
   ],
   "source": [
    "np.median(height)"
   ]
  },
  {
   "cell_type": "code",
   "execution_count": 6,
   "id": "61125430-317a-44f4-b39b-b79fed619316",
   "metadata": {},
   "outputs": [
    {
     "name": "stderr",
     "output_type": "stream",
     "text": [
      "/tmp/ipykernel_186/3846226869.py:2: FutureWarning: Unlike other reduction functions (e.g. `skew`, `kurtosis`), the default behavior of `mode` typically preserves the axis it acts along. In SciPy 1.11.0, this behavior will change: the default value of `keepdims` will become False, the `axis` over which the statistic is taken will be eliminated, and the value None will no longer be accepted. Set `keepdims` to True or False to avoid this warning.\n",
      "  stats.mode(height)\n"
     ]
    },
    {
     "data": {
      "text/plain": [
       "ModeResult(mode=array([177.]), count=array([3]))"
      ]
     },
     "execution_count": 6,
     "metadata": {},
     "output_type": "execute_result"
    }
   ],
   "source": [
    "from scipy import stats\n",
    "stats.mode(height)"
   ]
  },
  {
   "cell_type": "code",
   "execution_count": 8,
   "id": "3ddea2b2-d0e5-4deb-b5a9-a4e764b06c6e",
   "metadata": {},
   "outputs": [
    {
     "data": {
      "text/plain": [
       "1.7885814036548633"
      ]
     },
     "execution_count": 8,
     "metadata": {},
     "output_type": "execute_result"
    }
   ],
   "source": [
    "# Problem_4\n",
    "# Q4. Find the standard deviation for the given data:\n",
    "\n",
    "# [178,177,176,177,178.2,178,175,179,180,175,178.9,176.2,177,172.5,178,176.5]\n",
    "\n",
    "height = [178,177,176,177,178.2,178,175,179,180,175,178.9,176.2,177,172.5,178,176.5]\n",
    "\n",
    "np.std(height)\n"
   ]
  },
  {
   "cell_type": "code",
   "execution_count": 11,
   "id": "8ddbe495-e857-42fd-a6a1-ff451fd372a6",
   "metadata": {},
   "outputs": [
    {
     "data": {
      "text/plain": [
       "49.111111111111114"
      ]
     },
     "execution_count": 11,
     "metadata": {},
     "output_type": "execute_result"
    }
   ],
   "source": [
    "# Problem_5\n",
    "# Q5. How are measures of dispersion such as range, variance, and standard deviation used to describe\n",
    "# the spread of a dataset? Provide an example.\n",
    "\n",
    "age_list= [23,43,26,37,69,78,67,56,43]\n",
    "\n",
    "import numpy as np\n",
    "\n",
    "np.mean(age_list)\n"
   ]
  },
  {
   "cell_type": "code",
   "execution_count": 10,
   "id": "59856726-7881-46f0-a3bb-1244933adb0d",
   "metadata": {},
   "outputs": [
    {
     "data": {
      "text/plain": [
       "337.2098765432099"
      ]
     },
     "execution_count": 10,
     "metadata": {},
     "output_type": "execute_result"
    }
   ],
   "source": [
    "np.var(age_list)"
   ]
  },
  {
   "cell_type": "code",
   "execution_count": 12,
   "id": "314d1844-9268-474b-90b3-2b7b53a78aa4",
   "metadata": {},
   "outputs": [
    {
     "data": {
      "text/plain": [
       "18.36327521285922"
      ]
     },
     "execution_count": 12,
     "metadata": {},
     "output_type": "execute_result"
    }
   ],
   "source": [
    "np.std(age_list)"
   ]
  },
  {
   "cell_type": "code",
   "execution_count": 13,
   "id": "e23873db-6a27-4e23-b936-04d9065f20de",
   "metadata": {},
   "outputs": [
    {
     "data": {
      "text/plain": [
       "<AxesSubplot: ylabel='Count'>"
      ]
     },
     "execution_count": 13,
     "metadata": {},
     "output_type": "execute_result"
    },
    {
     "data": {
      "image/png": "[encoded data removed]",
      "text/plain": [
       "<Figure size 640x480 with 1 Axes>"
      ]
     },
     "metadata": {},
     "output_type": "display_data"
    }
   ],
   "source": [
    "import seaborn as sns\n",
    "sns.histplot(age_list, kde = True)"
   ]
  },
  {
   "cell_type": "markdown",
   "id": "cdf5944f-6305-4a1b-acc8-324e81e355d9",
   "metadata": {},
   "source": [
    "Problem_6\n",
    "Q6. What is a Venn diagram?\n",
    " A Venn diagram illustrates the relationships between two or more data sets. Venn diagrams are especially useful for highlighting similarities and differences and are commonly used to compare and contrast the characteristics of different data sets.\n",
    "\n",
    "In a Venn diagram, circles are used to represent each data set. Inside each circle is a list of characteristics that define that data. Characteristics shared between two or more data sets are listed in the area where the circles overlap. Simple Venn diagrams consist of two overlapping circles, but complex Venn diagrams may compare up to five or more data sets using up to five or more circles.\n",
    "\n",
    "Venn diagrams are commonly used in business and education settings to visualize and explore how things relate. In a business context, Venn diagrams are commonly used in product development, marketing, management, and more.\n",
    " "
   ]
  },
  {
   "cell_type": "code",
   "execution_count": 14,
   "id": "b83282ff-d480-460f-825f-55faf85e3f75",
   "metadata": {},
   "outputs": [],
   "source": [
    "# <!--  Problem_7 \n",
    "#  Q7. For the two given sets A = (2,3,4,5,6,7) & B = (0,2,6,8,10). Find:\n",
    "\n",
    "# (i) \tA n B = {2,6}\n",
    "\n",
    "# (ii)\tA ⋃ B = {0,2,3,4,5,6,7,8,10}\n",
    "#  -->"
   ]
  },
  {
   "cell_type": "markdown",
   "id": "ac3c05a5-e8c5-4050-a7bd-f5c24aba5ca7",
   "metadata": {},
   "source": [
    "Problem_8\n",
    "Q8. What do you understand about skewness in data?\n",
    "Skewness is a measurement of the distortion of symmetrical distribution or asymmetry in a data set. Skewness is demonstrated on a bell curve when data points are not distributed symmetrically to the left and right sides of the median on a bell curve. If the bell curve is shifted to the left or the right, it is said to be skewed.\n",
    "\n",
    "Zero skew occurs when a data graph is symmetrical. Regardless of how long or fat the distribution tails are, a zero skew indicates a normal distribution of data. A data set can also have an undefined skewness should the data not provide sufficient information about its distribution.\n",
    "\n",
    "The mean of positively skewed data will be greater than the median. In a negatively skewed distribution, the exact opposite is the case: the mean of negatively skewed data will be less than the median. If the data graphs symmetrically, the distribution has zero skewness, regardless of how long or fat the tails are.\n",
    "\n",
    "The three probability distributions depicted below are positively skewed (or right-skewed) to an increasing degree. Negatively-skewed distributions are also known as left-skewed distributions.\n",
    "\n",
    "\n",
    "Skewed Bell Curves\n",
    "The normal distribution has the shape of a bell curve. It has zero skewness and has a balanced, symmetrical graph. The mean, median, and mode data values are equal and can be found at the center of the chart. Negative skewness brings the average or mean of the data set toward the left, and the mode will be at the highest point on the right side, with the median still at the middle portion of the graph. On the other hand, Positive skewness does the opposite. It moves the mean toward the median's right side, and the mode will be at the highest point on the left side.\n",
    "\n"
   ]
  },
  {
   "cell_type": "code",
   "execution_count": 15,
   "id": "46df4054-ace8-45d6-94ee-bbb349f514b3",
   "metadata": {},
   "outputs": [],
   "source": [
    "# Problem_9\n",
    "# If a data is right skewed then what will be the position of median with respect to mean?\n",
    "# It is also known as positive skew\n",
    "# The mean is greater than the median and  median is greater than mode"
   ]
  },
  {
   "cell_type": "markdown",
   "id": "148d6b38-d617-4073-9234-a5d96940ef10",
   "metadata": {},
   "source": [
    "Problem_10\n",
    "Explain the difference between covariance and correlation. How are these measures used in\n",
    "statistical analysis?\n",
    "\n",
    "Covariance-\n",
    "Covariance is an indicator of the extent to which 2 random variables are dependent on each other. A higher number denotes higher dependenc\n",
    "\n",
    "The value of covariance lies in the range of -∞ and +∞.\n",
    "\n",
    "Affects covariance\n",
    "\n",
    "\n",
    "Correlation-\n",
    "Correlation is a statistical measure that indicates how strongly two variables are related.\n",
    "\n",
    "Correlation is limited to values between the range -1 and +1\n",
    "\n",
    "Does not affect the correlation\n",
    "\n",
    "\n",
    "\n",
    "Application Of Covariance\n",
    "The following are the most common applications of Covariance:\n",
    "\n",
    "Simulating systems with multiple correlated variables is done using Cholesky decomposition. A covariance matrix helps determine the Cholesky decomposition because it is positive semi-definite. The matrix is decomposed by the product of the lower matrix and its transpose. \n",
    "To reduce the dimensions of large data sets, principal component analysis is used. To perform principal component analysis, an eigen decomposition is applied to the covariance matrix\n",
    "\n",
    "\n",
    "\n",
    "Applications of Correlation \n",
    "A correlation matrix is computed for three main reasons:\n",
    "\n",
    "The goal when dealing with large amounts of data is to find patterns. As a result, a correlation matrix is used to look for a pattern in the data and determine whether the variables are highly correlated.\n",
    "For use in other analyses. When excluding missing values pairwise, correlation matrices are commonly used as inputs for exploratory factor analysis, confirmatory factor analysis, structural equation models, and linear regression.\n",
    "When checking other analyses, as a diagnostic. When it comes to linear regression, for example, a large number of correlations indicate that the linear regression estimates will be unreliable."
   ]
  },
  {
   "cell_type": "code",
   "execution_count": 19,
   "id": "f1eadeab-d890-4545-8ae4-731d8ecf5d51",
   "metadata": {},
   "outputs": [
    {
     "name": "stderr",
     "output_type": "stream",
     "text": [
      "/tmp/ipykernel_186/2952256867.py:16: FutureWarning: The default value of numeric_only in DataFrame.cov is deprecated. In a future version, it will default to False. Select only valid columns or specify the value of numeric_only to silence this warning.\n",
      "  df.cov()\n"
     ]
    },
    {
     "data": {
      "text/html": [
       "<div>\n",
       "<style scoped>\n",
       "    .dataframe tbody tr th:only-of-type {\n",
       "        vertical-align: middle;\n",
       "    }\n",
       "\n",
       "    .dataframe tbody tr th {\n",
       "        vertical-align: top;\n",
       "    }\n",
       "\n",
       "    .dataframe thead th {\n",
       "        text-align: right;\n",
       "    }\n",
       "</style>\n",
       "<table border=\"1\" class=\"dataframe\">\n",
       "  <thead>\n",
       "    <tr style=\"text-align: right;\">\n",
       "      <th></th>\n",
       "      <th>Year</th>\n",
       "      <th>Spending_USD</th>\n",
       "      <th>Life_Expectancy</th>\n",
       "    </tr>\n",
       "  </thead>\n",
       "  <tbody>\n",
       "    <tr>\n",
       "      <th>Year</th>\n",
       "      <td>201.098848</td>\n",
       "      <td>2.571883e+04</td>\n",
       "      <td>41.915454</td>\n",
       "    </tr>\n",
       "    <tr>\n",
       "      <th>Spending_USD</th>\n",
       "      <td>25718.827373</td>\n",
       "      <td>4.817761e+06</td>\n",
       "      <td>4166.800912</td>\n",
       "    </tr>\n",
       "    <tr>\n",
       "      <th>Life_Expectancy</th>\n",
       "      <td>41.915454</td>\n",
       "      <td>4.166801e+03</td>\n",
       "      <td>10.733902</td>\n",
       "    </tr>\n",
       "  </tbody>\n",
       "</table>\n",
       "</div>"
      ],
      "text/plain": [
       "                         Year  Spending_USD  Life_Expectancy\n",
       "Year               201.098848  2.571883e+04        41.915454\n",
       "Spending_USD     25718.827373  4.817761e+06      4166.800912\n",
       "Life_Expectancy     41.915454  4.166801e+03        10.733902"
      ]
     },
     "execution_count": 19,
     "metadata": {},
     "output_type": "execute_result"
    }
   ],
   "source": [
    "# Problem_11\n",
    "\n",
    "# Q11. What is the formula for calculating the sample mean? Provide an example calculation for a\n",
    "# dataset.\n",
    "\n",
    "# Sample mean represents the measure of the center of the data. Any population's mean is estimated using the \n",
    "# sample mean. In many of the situations and cases, we are required to estimate what the whole population is\n",
    "# doing, or what all are the factors going throughout the population, without surveying everyone in the population. \n",
    "# In such cases sample mean is useful. An average value found in a sample is termed the sample mean. \n",
    "# the sample mean so calculated is used to find the variance and thereby the standard deviation. Let us see \n",
    "# the sample mean formula and its applications in the upcoming sections.\n",
    "\n",
    "\n",
    "import seaborn as sns\n",
    "df = sns.load_dataset('healthexp')\n",
    "df.cov()"
   ]
  },
  {
   "cell_type": "code",
   "execution_count": 20,
   "id": "8040a7dc-60cf-4136-8f03-e276036724fe",
   "metadata": {},
   "outputs": [
    {
     "name": "stderr",
     "output_type": "stream",
     "text": [
      "/tmp/ipykernel_186/4109565533.py:2: FutureWarning: The default value of numeric_only in DataFrame.corr is deprecated. In a future version, it will default to False. Select only valid columns or specify the value of numeric_only to silence this warning.\n",
      "  df.corr(method = 'pearson')\n"
     ]
    },
    {
     "data": {
      "text/html": [
       "<div>\n",
       "<style scoped>\n",
       "    .dataframe tbody tr th:only-of-type {\n",
       "        vertical-align: middle;\n",
       "    }\n",
       "\n",
       "    .dataframe tbody tr th {\n",
       "        vertical-align: top;\n",
       "    }\n",
       "\n",
       "    .dataframe thead th {\n",
       "        text-align: right;\n",
       "    }\n",
       "</style>\n",
       "<table border=\"1\" class=\"dataframe\">\n",
       "  <thead>\n",
       "    <tr style=\"text-align: right;\">\n",
       "      <th></th>\n",
       "      <th>Year</th>\n",
       "      <th>Spending_USD</th>\n",
       "      <th>Life_Expectancy</th>\n",
       "    </tr>\n",
       "  </thead>\n",
       "  <tbody>\n",
       "    <tr>\n",
       "      <th>Year</th>\n",
       "      <td>1.000000</td>\n",
       "      <td>0.826273</td>\n",
       "      <td>0.902175</td>\n",
       "    </tr>\n",
       "    <tr>\n",
       "      <th>Spending_USD</th>\n",
       "      <td>0.826273</td>\n",
       "      <td>1.000000</td>\n",
       "      <td>0.579430</td>\n",
       "    </tr>\n",
       "    <tr>\n",
       "      <th>Life_Expectancy</th>\n",
       "      <td>0.902175</td>\n",
       "      <td>0.579430</td>\n",
       "      <td>1.000000</td>\n",
       "    </tr>\n",
       "  </tbody>\n",
       "</table>\n",
       "</div>"
      ],
      "text/plain": [
       "                     Year  Spending_USD  Life_Expectancy\n",
       "Year             1.000000      0.826273         0.902175\n",
       "Spending_USD     0.826273      1.000000         0.579430\n",
       "Life_Expectancy  0.902175      0.579430         1.000000"
      ]
     },
     "execution_count": 20,
     "metadata": {},
     "output_type": "execute_result"
    }
   ],
   "source": [
    "#pearson correlation coefficient\n",
    "df.corr(method = 'pearson')"
   ]
  },
  {
   "cell_type": "code",
   "execution_count": 21,
   "id": "85a74518-0888-42f5-a63c-e67cca5f2396",
   "metadata": {},
   "outputs": [
    {
     "name": "stderr",
     "output_type": "stream",
     "text": [
      "/tmp/ipykernel_186/1784724008.py:2: FutureWarning: The default value of numeric_only in DataFrame.corr is deprecated. In a future version, it will default to False. Select only valid columns or specify the value of numeric_only to silence this warning.\n",
      "  df.corr(method = 'spearman')\n"
     ]
    },
    {
     "data": {
      "text/html": [
       "<div>\n",
       "<style scoped>\n",
       "    .dataframe tbody tr th:only-of-type {\n",
       "        vertical-align: middle;\n",
       "    }\n",
       "\n",
       "    .dataframe tbody tr th {\n",
       "        vertical-align: top;\n",
       "    }\n",
       "\n",
       "    .dataframe thead th {\n",
       "        text-align: right;\n",
       "    }\n",
       "</style>\n",
       "<table border=\"1\" class=\"dataframe\">\n",
       "  <thead>\n",
       "    <tr style=\"text-align: right;\">\n",
       "      <th></th>\n",
       "      <th>Year</th>\n",
       "      <th>Spending_USD</th>\n",
       "      <th>Life_Expectancy</th>\n",
       "    </tr>\n",
       "  </thead>\n",
       "  <tbody>\n",
       "    <tr>\n",
       "      <th>Year</th>\n",
       "      <td>1.000000</td>\n",
       "      <td>0.931598</td>\n",
       "      <td>0.896117</td>\n",
       "    </tr>\n",
       "    <tr>\n",
       "      <th>Spending_USD</th>\n",
       "      <td>0.931598</td>\n",
       "      <td>1.000000</td>\n",
       "      <td>0.747407</td>\n",
       "    </tr>\n",
       "    <tr>\n",
       "      <th>Life_Expectancy</th>\n",
       "      <td>0.896117</td>\n",
       "      <td>0.747407</td>\n",
       "      <td>1.000000</td>\n",
       "    </tr>\n",
       "  </tbody>\n",
       "</table>\n",
       "</div>"
      ],
      "text/plain": [
       "                     Year  Spending_USD  Life_Expectancy\n",
       "Year             1.000000      0.931598         0.896117\n",
       "Spending_USD     0.931598      1.000000         0.747407\n",
       "Life_Expectancy  0.896117      0.747407         1.000000"
      ]
     },
     "execution_count": 21,
     "metadata": {},
     "output_type": "execute_result"
    }
   ],
   "source": [
    "#spearman rank correlation\n",
    "df.corr(method = 'spearman')"
   ]
  },
  {
   "cell_type": "markdown",
   "id": "42f39e66-08f6-4d70-9a29-293cc17b3a80",
   "metadata": {},
   "source": [
    "problem_12\n",
    "\n",
    "Q12. For a normal distribution data what is the relationship between its measure of central tendency?\n",
    "\n",
    "Measures of central tendency help you find the middle, or the average, of a dataset. The 3 most common measures of central tendency are the mode, median, and mean.\n",
    "\n",
    "Mode: the most frequent value.\n",
    "Median: the middle number in an ordered dataset.\n",
    "Mean: the sum of all values divided by the total number of values.\n",
    "\n",
    "Distributions and central tendency\n",
    "A dataset is a distribution of n number of scores or values.\n",
    "\n",
    "Normal distribution\n",
    "In a normal distribution, data is symmetrically distributed with no skew. Most values cluster around a central region, with values tapering off as they go further away from the center. The mean, mode and median are exactly the same in a normal distribution.\n",
    "\n",
    "The mean, median and mode are all equal"
   ]
  },
  {
   "cell_type": "markdown",
   "id": "315298c0-46e2-4b60-9154-ee34aa495c76",
   "metadata": {},
   "source": [
    "Problem_13\n",
    "\n",
    "Covariance reveals how two variables change together while correlation determines how closely two variables are related to each other.\n",
    "\n",
    "Both covariance and correlation measure the relationship and the dependency between two variables.\n",
    "Covariance indicates the direction of the linear relationship between variables.\n",
    "Correlation measures both the strength and direction of the linear relationship between two variables.\n",
    "Correlation values are standardized.\n",
    "Covariance values are not standardized.\n",
    "\n",
    "Put simply, both covariance and correlation measure the relationship and the dependency between two variables. Covariance indicates the direction of the linear relationship between variables while correlation measures both the strength and direction of the linear relationship between two variables. Correlation is a function of the covariance. \n",
    "\n",
    "What sets these two concepts apart is the fact that correlation values are standardized whereas covariance values are not. "
   ]
  },
  {
   "cell_type": "code",
   "execution_count": 25,
   "id": "a44d59ec-932c-4780-9d31-76c1e0a403f9",
   "metadata": {},
   "outputs": [
    {
     "data": {
      "text/plain": [
       "53.61538461538461"
      ]
     },
     "execution_count": 25,
     "metadata": {},
     "output_type": "execute_result"
    }
   ],
   "source": [
    "# problem_14\n",
    "# How do outliers affect measures of central tendency and dispersion? Provide an example.\n",
    "\n",
    "# Explanation:\n",
    "# When a outlier is present it can effect the shape of the graph, if we have outliers to the right of the graph.\n",
    "# These outliers are causing the mean to increase, but if we have outliers to the left of the graph these \n",
    "# outliers are dragging down the mean. This causes a conflict because the mean no longer provides a good \n",
    "# representation of the data, alternatively we would much rather use the median. The median on the other\n",
    "# hand is less likely to be affect by outliers\n",
    "age=[12,21,23,45,65,43,56,45,32,67,54,34,200]\n",
    "np.mean(age)\n",
    "\n"
   ]
  },
  {
   "cell_type": "code",
   "execution_count": 26,
   "id": "70b1867b-dcd6-4198-aab7-c5823f343bf6",
   "metadata": {},
   "outputs": [
    {
     "data": {
      "text/plain": [
       "45.0"
      ]
     },
     "execution_count": 26,
     "metadata": {},
     "output_type": "execute_result"
    }
   ],
   "source": [
    "# now using outlier\n",
    "age=[12,21,23,45,65,43,56,45,32,67,54,34,200]\n",
    "np.median(age)"
   ]
  },
  {
   "cell_type": "code",
   "execution_count": null,
   "id": "947ed024-db06-4ce2-a2e4-36e8c2a77ea5",
   "metadata": {},
   "outputs": [],
   "source": []
  }
 ],
 "metadata": {
  "kernelspec": {
   "display_name": "Python 3 (ipykernel)",
   "language": "python",
   "name": "python3"
  },
  "language_info": {
   "codemirror_mode": {
    "name": "ipython",
    "version": 3
   },
   "file_extension": ".py",
   "mimetype": "text/x-python",
   "name": "python",
   "nbconvert_exporter": "python",
   "pygments_lexer": "ipython3",
   "version": "3.10.8"
  }
 },
 "nbformat": 4,
 "nbformat_minor": 5
}
